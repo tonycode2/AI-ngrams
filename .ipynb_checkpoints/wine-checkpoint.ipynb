{
 "cells": [
  {
   "cell_type": "code",
   "execution_count": 1,
   "id": "c17d47a0-db1d-4131-93e3-e6071cbf530c",
   "metadata": {},
   "outputs": [],
   "source": [
    "import nltk\n",
    "from nltk.tokenize import word_tokenize\n",
    "from nltk.stem import PorterStemmer, WordNetLemmatizer\n",
    "from nltk.corpus import stopwords\n",
    "import re\n",
    "import pandas as pd"
   ]
  },
  {
   "cell_type": "code",
   "execution_count": 2,
   "id": "4c1a5e1e-456c-4fa3-a256-ed03fe73546c",
   "metadata": {},
   "outputs": [
    {
     "name": "stderr",
     "output_type": "stream",
     "text": [
      "[nltk_data] Downloading package punkt_tab to\n",
      "[nltk_data]     C:\\Users\\Tony\\AppData\\Roaming\\nltk_data...\n",
      "[nltk_data]   Package punkt_tab is already up-to-date!\n"
     ]
    },
    {
     "data": {
      "text/plain": [
       "True"
      ]
     },
     "execution_count": 2,
     "metadata": {},
     "output_type": "execute_result"
    }
   ],
   "source": [
    "nltk.download('punkt_tab')"
   ]
  },
  {
   "cell_type": "code",
   "execution_count": 3,
   "id": "b3ff0b8b-73c0-456e-bd64-e353c132017c",
   "metadata": {},
   "outputs": [
    {
     "name": "stderr",
     "output_type": "stream",
     "text": [
      "[nltk_data] Downloading package wordnet to\n",
      "[nltk_data]     C:\\Users\\Tony\\AppData\\Roaming\\nltk_data...\n",
      "[nltk_data]   Package wordnet is already up-to-date!\n"
     ]
    },
    {
     "data": {
      "text/plain": [
       "True"
      ]
     },
     "execution_count": 3,
     "metadata": {},
     "output_type": "execute_result"
    }
   ],
   "source": [
    "nltk.download('wordnet')"
   ]
  },
  {
   "cell_type": "code",
   "execution_count": 4,
   "id": "90f6bf5c-4800-4c9b-a026-c8eb3b01002c",
   "metadata": {},
   "outputs": [],
   "source": [
    "data = pd.read_csv('winemag-data-130k-v2.csv')"
   ]
  },
  {
   "cell_type": "code",
   "execution_count": 5,
   "id": "d521e5b0-d7dc-4161-98b9-d10b0b2730a2",
   "metadata": {},
   "outputs": [
    {
     "name": "stdout",
     "output_type": "stream",
     "text": [
      "<class 'pandas.core.frame.DataFrame'>\n",
      "RangeIndex: 118561 entries, 0 to 118560\n",
      "Data columns (total 14 columns):\n",
      " #   Column                 Non-Null Count   Dtype  \n",
      "---  ------                 --------------   -----  \n",
      " 0   Unnamed: 0             118561 non-null  int64  \n",
      " 1   country                118506 non-null  object \n",
      " 2   description            118561 non-null  object \n",
      " 3   designation            84430 non-null   object \n",
      " 4   points                 118560 non-null  float64\n",
      " 5   price                  110327 non-null  float64\n",
      " 6   province               118505 non-null  object \n",
      " 7   region_1               99152 non-null   object \n",
      " 8   region_2               45976 non-null   object \n",
      " 9   taster_name            94544 non-null   object \n",
      " 10  taster_twitter_handle  90014 non-null   object \n",
      " 11  title                  118560 non-null  object \n",
      " 12  variety                118559 non-null  object \n",
      " 13  winery                 118560 non-null  object \n",
      "dtypes: float64(2), int64(1), object(11)\n",
      "memory usage: 12.7+ MB\n"
     ]
    }
   ],
   "source": [
    "data.info()"
   ]
  },
  {
   "cell_type": "code",
   "execution_count": 6,
   "id": "8e70b495-c515-4f57-9f37-b5adadb99d15",
   "metadata": {},
   "outputs": [
    {
     "data": {
      "text/plain": [
       "\"Aromas include tropical fruit, broom, brimstone and dried herb. The palate isn't overly expressive, offering unripened apple, citrus and dried sage alongside brisk acidity.\""
      ]
     },
     "execution_count": 6,
     "metadata": {},
     "output_type": "execute_result"
    }
   ],
   "source": [
    "data['description'][0]"
   ]
  },
  {
   "cell_type": "code",
   "execution_count": 7,
   "id": "64603767-496d-4c15-9590-7169fb369d85",
   "metadata": {},
   "outputs": [
    {
     "data": {
      "text/html": [
       "<div>\n",
       "<style scoped>\n",
       "    .dataframe tbody tr th:only-of-type {\n",
       "        vertical-align: middle;\n",
       "    }\n",
       "\n",
       "    .dataframe tbody tr th {\n",
       "        vertical-align: top;\n",
       "    }\n",
       "\n",
       "    .dataframe thead th {\n",
       "        text-align: right;\n",
       "    }\n",
       "</style>\n",
       "<table border=\"1\" class=\"dataframe\">\n",
       "  <thead>\n",
       "    <tr style=\"text-align: right;\">\n",
       "      <th></th>\n",
       "      <th>Unnamed: 0</th>\n",
       "      <th>country</th>\n",
       "      <th>description</th>\n",
       "      <th>designation</th>\n",
       "      <th>points</th>\n",
       "      <th>price</th>\n",
       "      <th>province</th>\n",
       "      <th>region_1</th>\n",
       "      <th>region_2</th>\n",
       "      <th>taster_name</th>\n",
       "      <th>taster_twitter_handle</th>\n",
       "      <th>title</th>\n",
       "      <th>variety</th>\n",
       "      <th>winery</th>\n",
       "    </tr>\n",
       "  </thead>\n",
       "  <tbody>\n",
       "    <tr>\n",
       "      <th>0</th>\n",
       "      <td>0</td>\n",
       "      <td>Italy</td>\n",
       "      <td>Aromas include tropical fruit, broom, brimston...</td>\n",
       "      <td>Vulkà Bianco</td>\n",
       "      <td>87.0</td>\n",
       "      <td>NaN</td>\n",
       "      <td>Sicily &amp; Sardinia</td>\n",
       "      <td>Etna</td>\n",
       "      <td>NaN</td>\n",
       "      <td>Kerin O’Keefe</td>\n",
       "      <td>@kerinokeefe</td>\n",
       "      <td>Nicosia 2013 Vulkà Bianco  (Etna)</td>\n",
       "      <td>White Blend</td>\n",
       "      <td>Nicosia</td>\n",
       "    </tr>\n",
       "    <tr>\n",
       "      <th>1</th>\n",
       "      <td>1</td>\n",
       "      <td>Portugal</td>\n",
       "      <td>This is ripe and fruity, a wine that is smooth...</td>\n",
       "      <td>Avidagos</td>\n",
       "      <td>87.0</td>\n",
       "      <td>15.0</td>\n",
       "      <td>Douro</td>\n",
       "      <td>NaN</td>\n",
       "      <td>NaN</td>\n",
       "      <td>Roger Voss</td>\n",
       "      <td>@vossroger</td>\n",
       "      <td>Quinta dos Avidagos 2011 Avidagos Red (Douro)</td>\n",
       "      <td>Portuguese Red</td>\n",
       "      <td>Quinta dos Avidagos</td>\n",
       "    </tr>\n",
       "    <tr>\n",
       "      <th>2</th>\n",
       "      <td>2</td>\n",
       "      <td>US</td>\n",
       "      <td>Tart and snappy, the flavors of lime flesh and...</td>\n",
       "      <td>NaN</td>\n",
       "      <td>87.0</td>\n",
       "      <td>14.0</td>\n",
       "      <td>Oregon</td>\n",
       "      <td>Willamette Valley</td>\n",
       "      <td>Willamette Valley</td>\n",
       "      <td>Paul Gregutt</td>\n",
       "      <td>@paulgwine</td>\n",
       "      <td>Rainstorm 2013 Pinot Gris (Willamette Valley)</td>\n",
       "      <td>Pinot Gris</td>\n",
       "      <td>Rainstorm</td>\n",
       "    </tr>\n",
       "    <tr>\n",
       "      <th>3</th>\n",
       "      <td>3</td>\n",
       "      <td>US</td>\n",
       "      <td>Pineapple rind, lemon pith and orange blossom ...</td>\n",
       "      <td>Reserve Late Harvest</td>\n",
       "      <td>87.0</td>\n",
       "      <td>13.0</td>\n",
       "      <td>Michigan</td>\n",
       "      <td>Lake Michigan Shore</td>\n",
       "      <td>NaN</td>\n",
       "      <td>Alexander Peartree</td>\n",
       "      <td>NaN</td>\n",
       "      <td>St. Julian 2013 Reserve Late Harvest Riesling ...</td>\n",
       "      <td>Riesling</td>\n",
       "      <td>St. Julian</td>\n",
       "    </tr>\n",
       "    <tr>\n",
       "      <th>4</th>\n",
       "      <td>4</td>\n",
       "      <td>US</td>\n",
       "      <td>Much like the regular bottling from 2012, this...</td>\n",
       "      <td>Vintner's Reserve Wild Child Block</td>\n",
       "      <td>87.0</td>\n",
       "      <td>65.0</td>\n",
       "      <td>Oregon</td>\n",
       "      <td>Willamette Valley</td>\n",
       "      <td>Willamette Valley</td>\n",
       "      <td>Paul Gregutt</td>\n",
       "      <td>@paulgwine</td>\n",
       "      <td>Sweet Cheeks 2012 Vintner's Reserve Wild Child...</td>\n",
       "      <td>Pinot Noir</td>\n",
       "      <td>Sweet Cheeks</td>\n",
       "    </tr>\n",
       "  </tbody>\n",
       "</table>\n",
       "</div>"
      ],
      "text/plain": [
       "   Unnamed: 0   country                                        description  \\\n",
       "0           0     Italy  Aromas include tropical fruit, broom, brimston...   \n",
       "1           1  Portugal  This is ripe and fruity, a wine that is smooth...   \n",
       "2           2        US  Tart and snappy, the flavors of lime flesh and...   \n",
       "3           3        US  Pineapple rind, lemon pith and orange blossom ...   \n",
       "4           4        US  Much like the regular bottling from 2012, this...   \n",
       "\n",
       "                          designation  points  price           province  \\\n",
       "0                        Vulkà Bianco    87.0    NaN  Sicily & Sardinia   \n",
       "1                            Avidagos    87.0   15.0              Douro   \n",
       "2                                 NaN    87.0   14.0             Oregon   \n",
       "3                Reserve Late Harvest    87.0   13.0           Michigan   \n",
       "4  Vintner's Reserve Wild Child Block    87.0   65.0             Oregon   \n",
       "\n",
       "              region_1           region_2         taster_name  \\\n",
       "0                 Etna                NaN       Kerin O’Keefe   \n",
       "1                  NaN                NaN          Roger Voss   \n",
       "2    Willamette Valley  Willamette Valley        Paul Gregutt   \n",
       "3  Lake Michigan Shore                NaN  Alexander Peartree   \n",
       "4    Willamette Valley  Willamette Valley        Paul Gregutt   \n",
       "\n",
       "  taster_twitter_handle                                              title  \\\n",
       "0          @kerinokeefe                  Nicosia 2013 Vulkà Bianco  (Etna)   \n",
       "1            @vossroger      Quinta dos Avidagos 2011 Avidagos Red (Douro)   \n",
       "2           @paulgwine       Rainstorm 2013 Pinot Gris (Willamette Valley)   \n",
       "3                   NaN  St. Julian 2013 Reserve Late Harvest Riesling ...   \n",
       "4           @paulgwine   Sweet Cheeks 2012 Vintner's Reserve Wild Child...   \n",
       "\n",
       "          variety               winery  \n",
       "0     White Blend              Nicosia  \n",
       "1  Portuguese Red  Quinta dos Avidagos  \n",
       "2      Pinot Gris            Rainstorm  \n",
       "3        Riesling           St. Julian  \n",
       "4      Pinot Noir         Sweet Cheeks  "
      ]
     },
     "execution_count": 7,
     "metadata": {},
     "output_type": "execute_result"
    }
   ],
   "source": [
    "data.head()"
   ]
  },
  {
   "cell_type": "markdown",
   "id": "e814bbe5-8911-4923-a798-17df31972dcc",
   "metadata": {},
   "source": [
    "## Quitar stopwords"
   ]
  },
  {
   "cell_type": "markdown",
   "id": "fc683401-ac47-4df4-adc8-51905ba91c7f",
   "metadata": {},
   "source": [
    "Esto le quita palabras que no van a servir para mucho a nivel de analisis"
   ]
  },
  {
   "cell_type": "code",
   "execution_count": 8,
   "id": "c40165a6-a50c-4ac9-83ea-f3deaba0eb7c",
   "metadata": {},
   "outputs": [],
   "source": [
    "en_stopwords = stopwords.words('english')"
   ]
  },
  {
   "cell_type": "code",
   "execution_count": 9,
   "id": "1976ff6d-b1a5-4d6d-bb72-f2ab9089e1a5",
   "metadata": {},
   "outputs": [],
   "source": [
    "data['description_no_stopwords'] = data['description'].apply(lambda x: ' '.join([word for word in x.split() if word not in (en_stopwords)]))"
   ]
  },
  {
   "cell_type": "code",
   "execution_count": 10,
   "id": "ba080129-5a0d-4a4a-803c-bd997cf3c63a",
   "metadata": {},
   "outputs": [
    {
     "data": {
      "text/plain": [
       "0         Aromas include tropical fruit, broom, brimston...\n",
       "1         This ripe fruity, wine smooth still structured...\n",
       "2         Tart snappy, flavors lime flesh rind dominate....\n",
       "3         Pineapple rind, lemon pith orange blossom star...\n",
       "4         Much like regular bottling 2012, comes across ...\n",
       "                                ...                        \n",
       "118556    Here's soft, rather one-dimensional Pinot Noir...\n",
       "118557    Classic, crispy white berry- lime-flavored win...\n",
       "118558    Young, clean, fresh Vinho Verde, ready drink, ...\n",
       "118559    Rides Moscato wave sweet honeyed richness, car...\n",
       "118560    A soft, round Cabernet that's got leather, ced...\n",
       "Name: description_no_stopwords, Length: 118561, dtype: object"
      ]
     },
     "execution_count": 10,
     "metadata": {},
     "output_type": "execute_result"
    }
   ],
   "source": [
    "data['description_no_stopwords']"
   ]
  },
  {
   "cell_type": "markdown",
   "id": "36d35fe2-984a-4eea-8aa1-1889da342fd8",
   "metadata": {},
   "source": [
    "## Quitar punctiation"
   ]
  },
  {
   "cell_type": "markdown",
   "id": "bb1baab9-5aae-4e71-90ba-ab59aa35cedc",
   "metadata": {},
   "source": [
    "Aqui lo que estamos haciendo es dejar todo lo que no sea palabras o espacios en blanco por medio de expresiones regulares"
   ]
  },
  {
   "cell_type": "code",
   "execution_count": 11,
   "id": "a911568a-55b6-4ff0-be62-38b066bb6a99",
   "metadata": {},
   "outputs": [],
   "source": [
    "data['description_no_stopwords_no_punct'] = data.apply(lambda x: re.sub(r\"[^\\w\\s]\", \"\", x[\"description_no_stopwords\"]), axis = 1)"
   ]
  },
  {
   "cell_type": "code",
   "execution_count": 12,
   "id": "135ca0c9-894d-4038-a510-21ba4bfc671c",
   "metadata": {},
   "outputs": [
    {
     "data": {
      "text/plain": [
       "0         Aromas include tropical fruit broom brimstone ...\n",
       "1         This ripe fruity wine smooth still structured ...\n",
       "2         Tart snappy flavors lime flesh rind dominate S...\n",
       "3         Pineapple rind lemon pith orange blossom start...\n",
       "4         Much like regular bottling 2012 comes across r...\n",
       "                                ...                        \n",
       "118556    Heres soft rather onedimensional Pinot Noir dr...\n",
       "118557    Classic crispy white berry limeflavored wine I...\n",
       "118558    Young clean fresh Vinho Verde ready drink refr...\n",
       "118559    Rides Moscato wave sweet honeyed richness carr...\n",
       "118560    A soft round Cabernet thats got leather cedar ...\n",
       "Name: description_no_stopwords_no_punct, Length: 118561, dtype: object"
      ]
     },
     "execution_count": 12,
     "metadata": {},
     "output_type": "execute_result"
    }
   ],
   "source": [
    "data['description_no_stopwords_no_punct']"
   ]
  },
  {
   "cell_type": "markdown",
   "id": "210f58c1-f791-4797-b149-79f691ebd1ae",
   "metadata": {},
   "source": [
    "## Tokenizacion"
   ]
  },
  {
   "cell_type": "markdown",
   "id": "23652e74-be69-4501-8c59-27e2c45739d1",
   "metadata": {},
   "source": [
    "Aqui lo que sucede es que hacemos que todas las oraciones se conviertan en listas"
   ]
  },
  {
   "cell_type": "code",
   "execution_count": 13,
   "id": "29c2ac19-9185-4522-91a6-a844a49d4e34",
   "metadata": {},
   "outputs": [],
   "source": [
    "data['tokenize'] = data.apply(lambda x: word_tokenize(x['description_no_stopwords_no_punct']), axis = 1)"
   ]
  },
  {
   "cell_type": "code",
   "execution_count": 14,
   "id": "40b3d524-1dd0-4b92-aa3b-155963fa2e74",
   "metadata": {},
   "outputs": [
    {
     "data": {
      "text/plain": [
       "['Aromas',\n",
       " 'include',\n",
       " 'tropical',\n",
       " 'fruit',\n",
       " 'broom',\n",
       " 'brimstone',\n",
       " 'dried',\n",
       " 'herb',\n",
       " 'The',\n",
       " 'palate',\n",
       " 'overly',\n",
       " 'expressive',\n",
       " 'offering',\n",
       " 'unripened',\n",
       " 'apple',\n",
       " 'citrus',\n",
       " 'dried',\n",
       " 'sage',\n",
       " 'alongside',\n",
       " 'brisk',\n",
       " 'acidity']"
      ]
     },
     "execution_count": 14,
     "metadata": {},
     "output_type": "execute_result"
    }
   ],
   "source": [
    "data['tokenize'][0]"
   ]
  },
  {
   "cell_type": "markdown",
   "id": "bf0e8dc1-4a7c-4974-99a3-72e545e43ae6",
   "metadata": {},
   "source": [
    "## Stemmer(hacer este o Lemmatized)"
   ]
  },
  {
   "cell_type": "markdown",
   "id": "188f41ee-83d2-4690-8869-a267f2be6951",
   "metadata": {},
   "source": [
    "Esto lo que hace es quitar prefijos o sufijos para intentar dejar las palabras como si fueran su palabra base. Se puede usar esto o Lemmatized que es igual, pero mas rapido"
   ]
  },
  {
   "cell_type": "code",
   "execution_count": 15,
   "id": "58e6821a-6939-4964-aefd-415a33f94496",
   "metadata": {},
   "outputs": [],
   "source": [
    "ps = PorterStemmer()"
   ]
  },
  {
   "cell_type": "code",
   "execution_count": 16,
   "id": "e5492096-1d56-4a78-9b28-d5cf3e6827c1",
   "metadata": {},
   "outputs": [],
   "source": [
    "data['stemmed'] = data['tokenize'].apply(lambda tokens: [ps.stem(token) for token in tokens])"
   ]
  },
  {
   "cell_type": "code",
   "execution_count": 17,
   "id": "40477486-4b8d-4cbe-a3da-d8e9d1b4f21e",
   "metadata": {},
   "outputs": [
    {
     "data": {
      "text/plain": [
       "['aroma',\n",
       " 'includ',\n",
       " 'tropic',\n",
       " 'fruit',\n",
       " 'broom',\n",
       " 'brimston',\n",
       " 'dri',\n",
       " 'herb',\n",
       " 'the',\n",
       " 'palat',\n",
       " 'overli',\n",
       " 'express',\n",
       " 'offer',\n",
       " 'unripen',\n",
       " 'appl',\n",
       " 'citru',\n",
       " 'dri',\n",
       " 'sage',\n",
       " 'alongsid',\n",
       " 'brisk',\n",
       " 'acid']"
      ]
     },
     "execution_count": 17,
     "metadata": {},
     "output_type": "execute_result"
    }
   ],
   "source": [
    "data['stemmed'][0]"
   ]
  },
  {
   "cell_type": "markdown",
   "id": "75ae34ef-67b3-4e3d-a498-49ba7521a12e",
   "metadata": {},
   "source": [
    "## Lemmatized"
   ]
  },
  {
   "cell_type": "code",
   "execution_count": 18,
   "id": "7e439f72-ea09-43fb-85ec-3e5e518e628e",
   "metadata": {},
   "outputs": [],
   "source": [
    "lemmatized = WordNetLemmatizer()"
   ]
  },
  {
   "cell_type": "code",
   "execution_count": 19,
   "id": "ca3d297f-7e39-41bd-9f9d-a05ad9932af9",
   "metadata": {},
   "outputs": [],
   "source": [
    "data['lemmatized'] = data['tokenize'].apply(lambda tokens:[lemmatized.lemmatize(token) for token in tokens])"
   ]
  },
  {
   "cell_type": "code",
   "execution_count": 20,
   "id": "ea5bf2f6-b993-4ca6-a9af-87d2988c4d20",
   "metadata": {},
   "outputs": [
    {
     "data": {
      "text/plain": [
       "['Aromas',\n",
       " 'include',\n",
       " 'tropical',\n",
       " 'fruit',\n",
       " 'broom',\n",
       " 'brimstone',\n",
       " 'dried',\n",
       " 'herb',\n",
       " 'The',\n",
       " 'palate',\n",
       " 'overly',\n",
       " 'expressive',\n",
       " 'offering',\n",
       " 'unripened',\n",
       " 'apple',\n",
       " 'citrus',\n",
       " 'dried',\n",
       " 'sage',\n",
       " 'alongside',\n",
       " 'brisk',\n",
       " 'acidity']"
      ]
     },
     "execution_count": 20,
     "metadata": {},
     "output_type": "execute_result"
    }
   ],
   "source": [
    "data['lemmatized'][0]"
   ]
  },
  {
   "cell_type": "code",
   "execution_count": 21,
   "id": "7a984b83-fcd5-4459-b1b5-e27fad031a99",
   "metadata": {},
   "outputs": [],
   "source": [
    "flattened = [token for doc in data['lemmatized'] for token in doc]"
   ]
  },
  {
   "cell_type": "markdown",
   "id": "93b02c18-391c-4bf9-b9b7-42d6998db310",
   "metadata": {},
   "source": [
    "## N-Grams"
   ]
  },
  {
   "cell_type": "markdown",
   "id": "b5bf70c0-886c-4961-8f13-272c9471d69e",
   "metadata": {},
   "source": [
    "Aqui lo que estamos haciendo es contar la cantidad de veces que se repiten las palabras en 1 y 2 cantidades"
   ]
  },
  {
   "cell_type": "code",
   "execution_count": 22,
   "id": "74011c18-9a21-4210-98a7-8352ea6131b5",
   "metadata": {},
   "outputs": [
    {
     "name": "stdout",
     "output_type": "stream",
     "text": [
      "(wine,)               75258\n",
      "(flavor,)             60244\n",
      "(fruit,)              53158\n",
      "(The,)                47966\n",
      "(This,)               37505\n",
      "                      ...  \n",
      "(Rubyviolet,)             1\n",
      "(17thcentury,)            1\n",
      "(contactdelivers,)        1\n",
      "(fasttrack,)              1\n",
      "(stilldense,)             1\n",
      "Name: count, Length: 47699, dtype: int64\n"
     ]
    }
   ],
   "source": [
    "unigrams = (pd.Series(nltk.ngrams(flattened, 1)).value_counts())\n",
    "print(unigrams)"
   ]
  },
  {
   "cell_type": "code",
   "execution_count": 23,
   "id": "791ca363-8b53-4553-8b4b-c3fc98b42584",
   "metadata": {},
   "outputs": [
    {
     "name": "stdout",
     "output_type": "stream",
     "text": [
      "(The, palate)      8478\n",
      "(black, cherry)    7152\n",
      "(The, wine)        6298\n",
      "(fruit, flavor)    5460\n",
      "(This, wine)       4809\n",
      "                   ... \n",
      "(nicest, part)        1\n",
      "(spice, nicest)       1\n",
      "(time, olive)         1\n",
      "(good, Super)         1\n",
      "(rooty, The)          1\n",
      "Name: count, Length: 859103, dtype: int64\n"
     ]
    }
   ],
   "source": [
    "bigrams = (pd.Series(nltk.ngrams(flattened, 2)).value_counts())\n",
    "print(bigrams)"
   ]
  }
 ],
 "metadata": {
  "kernelspec": {
   "display_name": "Python [conda env:base] *",
   "language": "python",
   "name": "conda-base-py"
  },
  "language_info": {
   "codemirror_mode": {
    "name": "ipython",
    "version": 3
   },
   "file_extension": ".py",
   "mimetype": "text/x-python",
   "name": "python",
   "nbconvert_exporter": "python",
   "pygments_lexer": "ipython3",
   "version": "3.13.5"
  }
 },
 "nbformat": 4,
 "nbformat_minor": 5
}
